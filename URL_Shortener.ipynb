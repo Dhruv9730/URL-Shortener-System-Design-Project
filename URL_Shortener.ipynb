{
 "cells": [
  {
   "cell_type": "code",
   "execution_count": 7,
   "id": "f905ee7d-5a5c-4dd1-b221-15574255ef3b",
   "metadata": {},
   "outputs": [],
   "source": [
    "import time\n",
    "\n",
    "class URLShortener:\n",
    "    def __init__(self, default_ttl =60):\n",
    "        self.url_to_id ={}\n",
    "        self.id_to_url ={}\n",
    "        self.url_expiry = {}\n",
    "        self.click_count ={} #New dictionary to track hits\n",
    "        self.counter =1\n",
    "        self.default_ttl =default_ttl\n",
    "        self.alphabet = \"abcdefghijklmnopqrstuvwxyzABCDEFGHIJKLMNOPQRSTUVWXYZ0123456789\"\n",
    "\n",
    "    def encode(self, long_url, ttl =None, custom_alias = None):\n",
    "        if long_url in self.url_to_id:\n",
    "            short_id = self.url_to_id[long_url]\n",
    "        else:\n",
    "            # Handle custom alias\n",
    "            if custom_alias:\n",
    "                if custom_alias in self.id_to_url:\n",
    "                    return f\"Alia '{custom_alias}' is already taken\"\n",
    "                short_id =custom_alias\n",
    "            else:\n",
    "                short_id = self._int_to_base62(self.counter)\n",
    "                self.counter+=1\n",
    "                \n",
    "            short_id =self._int_to_base62(self.counter)\n",
    "            self.url_to_id[long_url] = short_id\n",
    "            self.id_to_url[short_id] = long_url\n",
    "            expiry_time =time.time() + (ttl if ttl else self.default_ttl)\n",
    "            self.url_expiry[short_id] = expiry_time\n",
    "            self.counter  +=1\n",
    "        return f\"https://short.ly/{short_id}\"\n",
    "\n",
    "    \n",
    "\n",
    "    def decode(self, short_url):\n",
    "        short_id = short_url.split(\"/\")[-1]\n",
    "\n",
    "        # Check if expired\n",
    "        if short_id not in self.url_expiry:\n",
    "            return \"URL not found\"\n",
    "        if time.time() > self.url_expiry[short_id]:\n",
    "            return \"URL has expired\"\n",
    "\n",
    "        #track the click\n",
    "        self.click_count[short_id] = self.click_count.get(short_id, 0)+1\n",
    "        return self.id_to_url.get(short_id, \"URL not found\")\n",
    "\n",
    "\n",
    "    def get_analytics(self, short_url):\n",
    "        short_id = short_url.split(\"/\")[-1]\n",
    "        url = self.id_to_url.get(short_id)\n",
    "        clicks = self.click_count.get(short_id,0)\n",
    "        expiry = self.url_expiry.get(short_id, 0)\n",
    "        expires_in = max(0, int(expiry - time.time()))\n",
    "\n",
    "        return {\n",
    "            \"original_url\": url,\n",
    "            \"short_url\":short_url,\n",
    "            \"clicks\":clicks,\n",
    "            \"expires_in_sec\":expires_in}\n",
    "\n",
    "\n",
    "    def _int_to_base62(self,num):\n",
    "        base62 =[]\n",
    "        base = len(self.alphabet)\n",
    "        while num >0:\n",
    "            num, rem = divmod(num, base)\n",
    "            base62.append(self.alphabet[rem])\n",
    "        return ''.join(reversed(base62))\n",
    "\n",
    "    def _base62_to_int(self,str_id):\n",
    "        base = len(self.alphabet)\n",
    "        num =0\n",
    "        for char in str_id:\n",
    "            num = num*base + self.alphabet.index(char)\n",
    "        return num\n"
   ]
  },
  {
   "cell_type": "markdown",
   "id": "c1491ac1-11dd-48dc-93d6-dedffeb8079c",
   "metadata": {},
   "source": [
    "### Example Usage"
   ]
  },
  {
   "cell_type": "code",
   "execution_count": 10,
   "id": "a764514a-ce4f-4d47-ba30-80699a18d9d7",
   "metadata": {},
   "outputs": [
    {
     "name": "stdout",
     "output_type": "stream",
     "text": [
      "Short URLs: https://short.ly/c https://short.ly/e\n",
      "Original: https://www.youtube.com/watch?v=dQw4w9WgXcQ\n",
      "Original: https://pythontutor.com/render.html#mode=display\n"
     ]
    }
   ],
   "source": [
    "shortener = URLShortener()\n",
    "\n",
    "url1 = \"https://www.youtube.com/watch?v=dQw4w9WgXcQ\"\n",
    "url2 = \"https://pythontutor.com/render.html#mode=display\"\n",
    "\n",
    "short1 = shortener.encode(url1)\n",
    "short2 = shortener.encode(url2)\n",
    "\n",
    "print(\"Short URLs:\", short1, short2)\n",
    "\n",
    "print(\"Original:\", shortener.decode(short1))\n",
    "print(\"Original:\", shortener.decode(short2))"
   ]
  },
  {
   "cell_type": "markdown",
   "id": "a780699a-c2e0-40b1-ad48-e7ac165872be",
   "metadata": {},
   "source": [
    "### Create a Short URL With 5 Seconds TTL "
   ]
  },
  {
   "cell_type": "code",
   "execution_count": 13,
   "id": "fbc6ab9f-c158-4889-91d0-47805292e89d",
   "metadata": {},
   "outputs": [
    {
     "name": "stdout",
     "output_type": "stream",
     "text": [
      "Short URL: https://short.ly/c\n",
      "Trying to decode...\n",
      "https://pythontutor.com/render.html#mode=display\n",
      "After expiry...\n",
      "URL has expired\n"
     ]
    }
   ],
   "source": [
    "shortener =URLShortener()\n",
    "\n",
    "url =\"https://pythontutor.com/render.html#mode=display\"\n",
    "short_url = shortener.encode(url, ttl=5)  # expires in 5 seconds\n",
    "print(\"Short URL:\", short_url)\n",
    "\n",
    "print(\"Trying to decode...\")\n",
    "print(shortener.decode(short_url))  # should work\n",
    "\n",
    "time.sleep(6)\n",
    "\n",
    "print(\"After expiry...\")\n",
    "print(shortener.decode(short_url))  # should say expired"
   ]
  },
  {
   "cell_type": "markdown",
   "id": "defc90ba-2e06-415c-b888-f31cb9d0a6d3",
   "metadata": {},
   "source": [
    "### Test the Custom Alias"
   ]
  },
  {
   "cell_type": "code",
   "execution_count": 15,
   "id": "bfd826e4-5b83-4d0d-a844-b0b240518b1f",
   "metadata": {},
   "outputs": [
    {
     "name": "stdout",
     "output_type": "stream",
     "text": [
      "https://short.ly/b\n"
     ]
    }
   ],
   "source": [
    "shortener =URLShortener()\n",
    "\n",
    "custom_url = shortener.encode(\"https://openai.com\", custom_alias=\"openai\")\n",
    "print(custom_url)"
   ]
  },
  {
   "cell_type": "markdown",
   "id": "d33b7d31-e1b7-4286-956e-d94c8ef2d120",
   "metadata": {},
   "source": [
    "### Testing for click counter"
   ]
  },
  {
   "cell_type": "code",
   "execution_count": 19,
   "id": "6f869fd4-0e24-4829-9d95-337e347c2127",
   "metadata": {},
   "outputs": [
    {
     "name": "stdout",
     "output_type": "stream",
     "text": [
      "{'original_url': 'https://openai.com', 'short_url': 'https://short.ly/b', 'clicks': 3, 'expires_in_sec': 60}\n"
     ]
    }
   ],
   "source": [
    "shortener = URLShortener()\n",
    "\n",
    "url = \"https://openai.com\"\n",
    "short = shortener.encode(url, custom_alias=\"openai\")\n",
    "\n",
    "# Simulate visits\n",
    "shortener.decode(short)\n",
    "shortener.decode(short)\n",
    "shortener.decode(short)\n",
    "\n",
    "# Get analytics\n",
    "print(shortener.get_analytics(short))"
   ]
  },
  {
   "cell_type": "code",
   "execution_count": null,
   "id": "9a54287c-82f7-426d-bf92-1147f68bf278",
   "metadata": {},
   "outputs": [],
   "source": []
  }
 ],
 "metadata": {
  "kernelspec": {
   "display_name": "Python 3 (ipykernel)",
   "language": "python",
   "name": "python3"
  },
  "language_info": {
   "codemirror_mode": {
    "name": "ipython",
    "version": 3
   },
   "file_extension": ".py",
   "mimetype": "text/x-python",
   "name": "python",
   "nbconvert_exporter": "python",
   "pygments_lexer": "ipython3",
   "version": "3.9.18"
  }
 },
 "nbformat": 4,
 "nbformat_minor": 5
}
